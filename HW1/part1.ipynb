{
 "cells": [
  {
   "cell_type": "code",
   "execution_count": null,
   "id": "20075077",
   "metadata": {},
   "outputs": [],
   "source": [
    "import cv2\n",
    "import numpy as np\n",
    "\n",
    "def combineForegroundBackground(fgImg, fgMask, bgImg, topLeft):\n",
    "    # we extract foreground region from fgImg and fgMask\n",
    "    fgH, fgW = fgImg.shape[:2]\n",
    "    x1, y1 = max(topLeft[1], 0), max(topLeft[0], 0)\n",
    "    x2, y2 = min(topLeft[1] + fgW, bgImg.shape[1]), min(topLeft[0] + fgH, bgImg.shape[0])\n",
    "    fgImg = fgImg[:y2-y1, :x2-x1, :]\n",
    "    fgMask = fgMask[:y2-y1, :x2-x1]\n",
    "\n",
    "    # we make a mask for the background\n",
    "    bgMask = 255 - fgMask\n",
    "\n",
    "    # WE make a new image with the same size as background image\n",
    "    newImg = np.copy(bgImg)\n",
    "    for c in range(3):\n",
    "        newImg[y1:y2, x1:x2, c] = fgImg[:,:,c] * (fgMask/255) + bgImg[y1:y2, x1:x2, c] * (bgMask/255)\n",
    "\n",
    "    return newImg\n",
    "\n",
    "fgImg = cv2.imread(\"foreground.jpg\")\n",
    "bgImg = cv2.imread(\"background.png\")\n",
    "fgMask = cv2.imread(\"mask.png\", 0)\n",
    "\n",
    "# we combine the foreground and background both image\n",
    "newImg = combineForegroundBackground(fgImg, fgMask, bgImg, (300, 660))\n",
    "\n",
    "cv2.imshow(\"Result\", newImg)\n",
    "cv2.waitKey(0)\n",
    "cv2.destroyAllWindows()\n"
   ]
  },
  {
   "cell_type": "code",
   "execution_count": null,
   "id": "1f225cc4",
   "metadata": {},
   "outputs": [],
   "source": []
  },
  {
   "cell_type": "code",
   "execution_count": null,
   "id": "9cce7556",
   "metadata": {},
   "outputs": [],
   "source": []
  }
 ],
 "metadata": {
  "kernelspec": {
   "display_name": "Python 3 (ipykernel)",
   "language": "python",
   "name": "python3"
  },
  "language_info": {
   "codemirror_mode": {
    "name": "ipython",
    "version": 3
   },
   "file_extension": ".py",
   "mimetype": "text/x-python",
   "name": "python",
   "nbconvert_exporter": "python",
   "pygments_lexer": "ipython3",
   "version": "3.10.9"
  }
 },
 "nbformat": 4,
 "nbformat_minor": 5
}
