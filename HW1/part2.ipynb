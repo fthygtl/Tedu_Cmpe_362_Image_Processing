{
 "cells": [
  {
   "cell_type": "code",
   "execution_count": null,
   "id": "1b53c17f",
   "metadata": {},
   "outputs": [],
   "source": [
    "import cv2\n",
    "import numpy as np\n",
    "\n",
    "def gaussianSmoothing(img, sigma):\n",
    "    ksize = int(np.ceil(6*sigma))\n",
    "    if ksize % 2 == 0:\n",
    "        ksize += 1\n",
    "    kernel = cv2.getGaussianKernel(ksize, sigma)\n",
    "    smoothedImg = cv2.sepFilter2D(img, -1, kernel, kernel)\n",
    "    return smoothedImg\n",
    "\n",
    "def unsharpMasking(img, sigma):\n",
    "    blurredImg = gaussianSmoothing(img, sigma)\n",
    "    unsharpImg = cv2.addWeighted(img, 2.0, blurredImg, -1.0, 0)\n",
    "    return unsharpImg\n",
    "\n",
    "def combineForegroundBackground(fgImg, fgMask, bgImg, topLeft, bgSigma, fgSigma):\n",
    "    # smooth image with sigma value\n",
    "    smoothedBgImg = gaussianSmoothing(bgImg, bgSigma)\n",
    "\n",
    "    # sharpen image with sigma value\n",
    "    sharpenedFgImg = unsharpMasking(fgImg, fgSigma)\n",
    "\n",
    "    fgH, fgW = fgImg.shape[:2]\n",
    "    bgH, bgW = smoothedBgImg.shape[:2]\n",
    "    x1, y1 = max(topLeft[1], 0), max(topLeft[0], 0)\n",
    "    x2, y2 = min(topLeft[1] + fgW, bgW), min(topLeft[0] + fgH, bgH)\n",
    "    fgStartX, fgStartY = x1 - topLeft[0], y1 - topLeft[1]\n",
    "    fgEndX, fgEndY = fgStartX + (x2 - x1), fgStartY + (y2 - y1)\n",
    "\n",
    "    # Create a new background image\n",
    "    newBgImg = np.copy(smoothedBgImg)\n",
    "\n",
    "    for y in range(fgStartY, fgEndY):\n",
    "        for x in range(fgStartX, fgEndX):\n",
    "            if fgMask[y][x] != 0:\n",
    "                newBgImg[y + topLeft[0]][x + topLeft[1]] = fgImg[y][x]\n",
    "\n",
    "    return newBgImg\n",
    "\n",
    "\n",
    "# Loadimages\n",
    "fgImg = cv2.imread(\"foreground.jpg\")\n",
    "bgImg = cv2.imread(\"background.png\")\n",
    "\n",
    "# Load mask image\n",
    "fgMask = cv2.imread(\"mask.png\", 0)\n",
    "\n",
    "\n",
    "# In here we can change the sigma parameters\n",
    "result = combineForegroundBackground(fgImg, fgMask, bgImg, (0, 0),0,0)\n",
    "\n",
    "# we display the result\n",
    "cv2.imshow(\"Result\", result)\n",
    "cv2.waitKey(0)\n",
    "cv2.destroyAllWindows()\n"
   ]
  },
  {
   "cell_type": "code",
   "execution_count": null,
   "id": "062bafa9",
   "metadata": {},
   "outputs": [],
   "source": []
  },
  {
   "cell_type": "code",
   "execution_count": null,
   "id": "8e2d3d67",
   "metadata": {},
   "outputs": [],
   "source": []
  },
  {
   "cell_type": "code",
   "execution_count": null,
   "id": "f427047b",
   "metadata": {},
   "outputs": [],
   "source": []
  }
 ],
 "metadata": {
  "kernelspec": {
   "display_name": "Python 3 (ipykernel)",
   "language": "python",
   "name": "python3"
  },
  "language_info": {
   "codemirror_mode": {
    "name": "ipython",
    "version": 3
   },
   "file_extension": ".py",
   "mimetype": "text/x-python",
   "name": "python",
   "nbconvert_exporter": "python",
   "pygments_lexer": "ipython3",
   "version": "3.10.9"
  }
 },
 "nbformat": 4,
 "nbformat_minor": 5
}
